{
  "nbformat": 4,
  "nbformat_minor": 0,
  "metadata": {
    "colab": {
      "name": "Untitled2.ipynb",
      "provenance": []
    },
    "kernelspec": {
      "name": "python3",
      "display_name": "Python 3"
    },
    "language_info": {
      "name": "python"
    }
  },
  "cells": [
    {
      "cell_type": "markdown",
      "source": [
        "1. 使用者輸入兩個數字,請將輸入的數字相除到小數點後兩位 (四捨五入),\n",
        "若使用者輸入的不是數字,則需要提醒他格式錯誤。"
      ],
      "metadata": {
        "id": "dL_ZvZPeUAMG"
      }
    },
    {
      "cell_type": "code",
      "source": [
        "n,m = input().split()\n",
        "try :\n",
        "  n = int(n)\n",
        "  m = int(m)\n",
        "  ans = round(n/m,2)\n",
        "  print(ans)\n",
        "except :\n",
        "  print('wrong')"
      ],
      "metadata": {
        "colab": {
          "base_uri": "https://localhost:8080/"
        },
        "id": "jzpRdX9CSMo3",
        "outputId": "9cc92905-00e9-4717-8efe-0ed3edfa6685"
      },
      "execution_count": 3,
      "outputs": [
        {
          "output_type": "stream",
          "name": "stdout",
          "text": [
            "a d\n",
            "wrong\n"
          ]
        }
      ]
    },
    {
      "cell_type": "markdown",
      "source": [
        "2. 若使用者輸入 2 的倍數,則印出此數為 2 的倍數,若 3 的倍數,則印出此\n",
        "數為 3 的倍數,若是 2 也是 3 的倍數,則印出此數為 6 的倍數。(25 分)"
      ],
      "metadata": {
        "id": "inxPxPT_T5tW"
      }
    },
    {
      "cell_type": "code",
      "source": [
        "n = int(input())\n",
        "if n % 6 == 0 :\n",
        "  print('6')\n",
        "elif n % 3 == 0 :\n",
        "  print('3')\n",
        "elif n % 2 == 0 :\n",
        "  print('2')"
      ],
      "metadata": {
        "colab": {
          "base_uri": "https://localhost:8080/"
        },
        "id": "Wn3tDC4kSvNf",
        "outputId": "83306207-0231-47e1-c7eb-e9b782b0f0d0"
      },
      "execution_count": 8,
      "outputs": [
        {
          "output_type": "stream",
          "name": "stdout",
          "text": [
            "3\n",
            "3\n"
          ]
        }
      ]
    },
    {
      "cell_type": "markdown",
      "source": [
        "3. 使用者輸入 n 秒 (n<86400) 請將它轉換成 x 時 x 分 x 秒。(25 分)"
      ],
      "metadata": {
        "id": "iamF8ummUd7O"
      }
    },
    {
      "cell_type": "code",
      "source": [
        "n = int(input())\n",
        "hour = n//3600\n",
        "min = (n%3600)//60\n",
        "sec = (n%3600)%60\n",
        "print(hour,min,sec)"
      ],
      "metadata": {
        "colab": {
          "base_uri": "https://localhost:8080/"
        },
        "id": "abBARhmJUmPm",
        "outputId": "5aa371a4-5502-4cf5-af61-384231106e76"
      },
      "execution_count": 12,
      "outputs": [
        {
          "output_type": "stream",
          "name": "stdout",
          "text": [
            "56240\n",
            "15 37 20\n"
          ]
        }
      ]
    },
    {
      "cell_type": "markdown",
      "source": [
        "4. 使用者輸入 n (n 為偶數),則印出 1 3 5 7 9 ... n-1,使用 while 迴圈。(25\n",
        "分)"
      ],
      "metadata": {
        "id": "o-aIeKxmVgC2"
      }
    },
    {
      "cell_type": "code",
      "source": [
        "n = int(input())\n",
        "while n > 0 :\n",
        "  print(n-1)\n",
        "  n -= 2"
      ],
      "metadata": {
        "colab": {
          "base_uri": "https://localhost:8080/"
        },
        "id": "Qkss6oCJVgxm",
        "outputId": "517728a1-4b26-49d1-a281-48c8e2cd387a"
      },
      "execution_count": 15,
      "outputs": [
        {
          "output_type": "stream",
          "name": "stdout",
          "text": [
            "10\n",
            "9\n",
            "7\n",
            "5\n",
            "3\n",
            "1\n"
          ]
        }
      ]
    }
  ]
}