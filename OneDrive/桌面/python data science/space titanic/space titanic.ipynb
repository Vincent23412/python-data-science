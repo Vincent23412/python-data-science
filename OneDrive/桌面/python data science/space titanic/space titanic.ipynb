{
 "cells": [
  {
   "cell_type": "code",
   "execution_count": 180,
   "id": "e83eb8f6",
   "metadata": {},
   "outputs": [],
   "source": [
    "import numpy as np\n",
    "import pandas as pd\n",
    "from sklearn.preprocessing import StandardScaler\n",
    "from sklearn.model_selection import train_test_split\n",
    "from sklearn.ensemble import RandomForestClassifier\n",
    "from sklearn.model_selection import cross_val_score\n",
    "from tqdm import tqdm \n"
   ]
  },
  {
   "cell_type": "code",
   "execution_count": 215,
   "id": "2c59a89f",
   "metadata": {},
   "outputs": [],
   "source": [
    "def standard(train) :\n",
    "    \n",
    "    train['HomePlanet'] = train['HomePlanet'].fillna('Earth')\n",
    "    \n",
    "    train['CryoSleep'] = train['CryoSleep'].fillna(False)\n",
    "        \n",
    "    train['Destination'] = train['Destination'].fillna('TRAPPIST-1e')\n",
    "    \n",
    "    train['Age'] = train['Age'].fillna(train['Age'].mean())\n",
    "    \n",
    "    train['VIP'] = train['VIP'].fillna(False)\n",
    "    \n",
    "    train['RoomService'] = train['RoomService'].fillna(0.0)\n",
    "    \n",
    "    train['FoodCourt'] = train['FoodCourt'].fillna(0.0)\n",
    "    \n",
    "    train['ShoppingMall'] = train['ShoppingMall'].fillna(0.0)\n",
    "    \n",
    "    train['Spa'] = train['Spa'].fillna(0.0)\n",
    "    \n",
    "    train['VRDeck'] = train['VRDeck'].fillna(0.0)\n",
    "    \n",
    "    \n",
    "    ##################################\n",
    "    #cabin\n",
    "    #Deck Side\n",
    "    train['Cabin'] = train['Cabin'].fillna('-------')\n",
    "    Deck = []\n",
    "    Side = []\n",
    "    time = 0\n",
    "    for i in train['Cabin'] :\n",
    "        if i[0] == '-' :\n",
    "            if time % 2 == 0 :\n",
    "                time += 1\n",
    "                Deck.append('F')\n",
    "                Side.append('P')\n",
    "            else :\n",
    "                Deck.append('G')\n",
    "                Side.append('S')\n",
    "        else :\n",
    "            Deck.append(i[0])\n",
    "            Side.append(i[-1])\n",
    "\n",
    "    train['Deck'] = Deck\n",
    "    train['Side'] = Side\n",
    "    \n",
    "    \n",
    "    \n",
    "    \n",
    "    ##num\n",
    "    Num = []\n",
    "    for i in train['Cabin'] :\n",
    "        if '-' in i[2:-2] :\n",
    "            Num.append('600')\n",
    "        else :\n",
    "            Num.append(i[2:-2])\n",
    "\n",
    "    train['Num'] = Num\n",
    "    ######################################\n",
    "    \n",
    "    \n",
    "    \n",
    "    #one hot encoding\n",
    "    x = train[['HomePlanet', 'CryoSleep', 'Destination', 'Age',\n",
    "        'VIP', 'RoomService', 'FoodCourt', 'ShoppingMall', 'Spa', 'VRDeck',\n",
    "        'Deck', 'Side']]\n",
    "\n",
    "    x = pd.get_dummies(x)\n",
    "\n",
    "    x['Num'] = train['Num']\n",
    "    \n",
    "    \n",
    "    #標準化\n",
    "    scaler = StandardScaler()\n",
    "    x[['Age','RoomService','FoodCourt',\n",
    "       'ShoppingMall','Spa','VRDeck']] = scaler.fit_transform(x[['Age','RoomService','FoodCourt',\n",
    "                                            'ShoppingMall','Spa','VRDeck']])\n",
    "    \n",
    "    return x"
   ]
  },
  {
   "cell_type": "code",
   "execution_count": 216,
   "id": "0a7ae6e5",
   "metadata": {},
   "outputs": [],
   "source": [
    "train = pd.read_csv(\"C:/Users/asd11/OneDrive/桌面/python專案/space titanic/train.csv\")\n",
    "test = pd.read_csv(\"C:/Users/asd11/OneDrive/桌面/python專案/space titanic/test.csv\")\n",
    "test_id = test['PassengerId']\n",
    "ans = train['Transported']"
   ]
  },
  {
   "cell_type": "code",
   "execution_count": 217,
   "id": "67aedf75",
   "metadata": {},
   "outputs": [],
   "source": [
    "train = standard(train)\n",
    "test = standard(test)"
   ]
  },
  {
   "cell_type": "code",
   "execution_count": 218,
   "id": "a2728e71",
   "metadata": {},
   "outputs": [],
   "source": [
    "train_x,test_x,train_y,test_y = train_test_split(train,ans,test_size=0.2,random_state=10)"
   ]
  },
  {
   "cell_type": "code",
   "execution_count": 219,
   "id": "38acd001",
   "metadata": {},
   "outputs": [
    {
     "name": "stderr",
     "output_type": "stream",
     "text": [
      "100%|██████████████████████████████████████████████████████████████████████████████████| 48/48 [01:00<00:00,  1.27s/it]\n",
      "  4%|███▍                                                                               | 2/48 [00:00<00:02, 15.47it/s]"
     ]
    },
    {
     "name": "stdout",
     "output_type": "stream",
     "text": [
      "8\n"
     ]
    },
    {
     "name": "stderr",
     "output_type": "stream",
     "text": [
      "100%|██████████████████████████████████████████████████████████████████████████████████| 48/48 [00:13<00:00,  3.45it/s]"
     ]
    },
    {
     "name": "stdout",
     "output_type": "stream",
     "text": [
      "48\n"
     ]
    },
    {
     "name": "stderr",
     "output_type": "stream",
     "text": [
      "\n"
     ]
    }
   ],
   "source": [
    "depth = []\n",
    "for i in tqdm(range(2,50,1)) :\n",
    "    model = RandomForestClassifier(max_depth=i)\n",
    "    model.fit(train_x,train_y)\n",
    "    scores = cross_val_score(model, test_x, test_y, cv=5)\n",
    "    depth.append(scores.mean())\n",
    "final_depth = np.argmax(np.array(depth)) + 2\n",
    "print(final_depth)\n",
    "estimators = []\n",
    "for i in tqdm(range(2,50,1)) :\n",
    "    model = RandomForestClassifier(max_depth=7,n_estimators =i)\n",
    "    model.fit(train_x,train_y)\n",
    "    scores = cross_val_score(model, test_x, test_y, cv=5)\n",
    "    estimators.append(scores.mean())\n",
    "final_estimators = np.argmax(np.array(estimators)) + 2\n",
    "print(final_estimators)"
   ]
  },
  {
   "cell_type": "code",
   "execution_count": 220,
   "id": "6d326fd1",
   "metadata": {},
   "outputs": [],
   "source": [
    "model = RandomForestClassifier(max_depth=final_depth,n_estimators=final_estimators)\n",
    "model.fit(train_x,train_y)\n",
    "pred = model.predict(test)\n",
    "submission = pd.DataFrame({'PassengerId':test_id,'Transported':pred})\n",
    "submission.to_csv('submission.csv',index=False)"
   ]
  }
 ],
 "metadata": {
  "kernelspec": {
   "display_name": "Python 3",
   "language": "python",
   "name": "python3"
  },
  "language_info": {
   "codemirror_mode": {
    "name": "ipython",
    "version": 3
   },
   "file_extension": ".py",
   "mimetype": "text/x-python",
   "name": "python",
   "nbconvert_exporter": "python",
   "pygments_lexer": "ipython3",
   "version": "3.8.8"
  }
 },
 "nbformat": 4,
 "nbformat_minor": 5
}
