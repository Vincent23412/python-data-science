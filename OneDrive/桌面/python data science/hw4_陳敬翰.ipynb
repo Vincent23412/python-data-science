{
 "cells": [
  {
   "cell_type": "code",
   "execution_count": 1,
   "id": "b759b0cc",
   "metadata": {},
   "outputs": [],
   "source": [
    "import numpy as np"
   ]
  },
  {
   "cell_type": "code",
   "execution_count": 19,
   "id": "001eebe1",
   "metadata": {},
   "outputs": [
    {
     "name": "stdout",
     "output_type": "stream",
     "text": [
      "2 3 5 5 7 8\n",
      "1 2 3 10 2 6\n",
      "[[ 21  64]\n",
      " [ 42 128]]\n"
     ]
    }
   ],
   "source": [
    "a = np.array(list(map(int,input().split()))).reshape(2,3)\n",
    "b = np.array(list(map(int,input().split()))).reshape(3,2)\n",
    "print(a.dot(b))"
   ]
  },
  {
   "cell_type": "code",
   "execution_count": 24,
   "id": "3e666bbf",
   "metadata": {},
   "outputs": [
    {
     "name": "stdout",
     "output_type": "stream",
     "text": [
      "1 2 3\n",
      "6 5 2\n",
      "1 2 3\n",
      "A class\n",
      "總和：6 最大：3\n",
      "B class\n",
      "總和：13 最大：6\n",
      "C class\n",
      "總和：6 最大：3\n"
     ]
    }
   ],
   "source": [
    "a = np.array(list(map(int,input().split())))\n",
    "b = np.array(list(map(int,input().split())))\n",
    "c = np.array(list(map(int,input().split())))\n",
    "print('A class')\n",
    "print('總和：%s 最大：%s' %(sum(a),max(a)))\n",
    "print('B class')\n",
    "print('總和：%s 最大：%s' %(sum(b),max(b)))\n",
    "print('C class')\n",
    "print('總和：%s 最大：%s' %(sum(c),max(c)))"
   ]
  },
  {
   "cell_type": "code",
   "execution_count": 21,
   "id": "a690bb5d",
   "metadata": {},
   "outputs": [
    {
     "data": {
      "text/plain": [
       "array([1, 2, 3])"
      ]
     },
     "execution_count": 21,
     "metadata": {},
     "output_type": "execute_result"
    }
   ],
   "source": [
    "a"
   ]
  }
 ],
 "metadata": {
  "kernelspec": {
   "display_name": "Python 3",
   "language": "python",
   "name": "python3"
  },
  "language_info": {
   "codemirror_mode": {
    "name": "ipython",
    "version": 3
   },
   "file_extension": ".py",
   "mimetype": "text/x-python",
   "name": "python",
   "nbconvert_exporter": "python",
   "pygments_lexer": "ipython3",
   "version": "3.8.8"
  }
 },
 "nbformat": 4,
 "nbformat_minor": 5
}
