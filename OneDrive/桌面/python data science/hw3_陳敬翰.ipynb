{
  "nbformat": 4,
  "nbformat_minor": 0,
  "metadata": {
    "colab": {
      "name": "Untitled3.ipynb",
      "provenance": []
    },
    "kernelspec": {
      "name": "python3",
      "display_name": "Python 3"
    },
    "language_info": {
      "name": "python"
    }
  },
  "cells": [
    {
      "cell_type": "code",
      "source": [
        "#1\n",
        "num = int(input())\n",
        "for i in range(num) :\n",
        "  for j in range(0,i) :\n",
        "    print(' ',end='')\n",
        "  for k in range(num,i,-1) :\n",
        "    print('*',end='')\n",
        "  print()"
      ],
      "metadata": {
        "colab": {
          "base_uri": "https://localhost:8080/"
        },
        "id": "cRngMd8Gm6RF",
        "outputId": "811770f9-c5e3-4e24-a40c-3204474225f6"
      },
      "execution_count": null,
      "outputs": [
        {
          "output_type": "stream",
          "name": "stdout",
          "text": [
            "7\n",
            "*******\n",
            " ******\n",
            "  *****\n",
            "   ****\n",
            "    ***\n",
            "     **\n",
            "      *\n"
          ]
        }
      ]
    },
    {
      "cell_type": "code",
      "source": [
        "#2\n",
        "num = int(input())\n",
        "for i in range(num) :\n",
        "  for k in range(num,i,-1) :\n",
        "    print(' ',end='')\n",
        "  for j in range(0,i) :\n",
        "    print('*',end='')  \n",
        "  print()"
      ],
      "metadata": {
        "colab": {
          "base_uri": "https://localhost:8080/"
        },
        "id": "ZnMtxSE8sNb-",
        "outputId": "0ebd9e47-0d02-45c4-c89d-3f19a49a2e07"
      },
      "execution_count": null,
      "outputs": [
        {
          "output_type": "stream",
          "name": "stdout",
          "text": [
            "7\n",
            "       \n",
            "      *\n",
            "     **\n",
            "    ***\n",
            "   ****\n",
            "  *****\n",
            " ******\n"
          ]
        }
      ]
    },
    {
      "cell_type": "code",
      "source": [
        "#3\n",
        "def get_distance(point1,point2) :\n",
        "  num = (point1[0] - point2[0]) ** 2 + (point1[1] - point2[1]) ** 2\n",
        "  return num ** 0.5\n",
        "print(get_distance([3,5],[10,29]))"
      ],
      "metadata": {
        "colab": {
          "base_uri": "https://localhost:8080/"
        },
        "id": "dTosU4Irq4Hm",
        "outputId": "7fb5ec10-ccd2-4b05-d6a6-94f5caa42263"
      },
      "execution_count": null,
      "outputs": [
        {
          "output_type": "stream",
          "name": "stdout",
          "text": [
            "25.0\n"
          ]
        }
      ]
    },
    {
      "cell_type": "code",
      "source": [
        "#4\n",
        "import random \n",
        "row = 5\n",
        "col = 3\n",
        "ans = [[random.randint(1,20) for i in range(col)] for j in range(row)]\n",
        "ans"
      ],
      "metadata": {
        "colab": {
          "base_uri": "https://localhost:8080/"
        },
        "id": "H7Zy5YWVlBlt",
        "outputId": "3bd7e7a2-074b-4f54-a00e-1aa4340cdfff"
      },
      "execution_count": null,
      "outputs": [
        {
          "output_type": "execute_result",
          "data": {
            "text/plain": [
              "[[18, 9, 7], [2, 1, 2], [6, 12, 13], [9, 7, 13], [2, 7, 3]]"
            ]
          },
          "metadata": {},
          "execution_count": 97
        }
      ]
    }
  ]
}