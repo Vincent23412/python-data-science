{
  "nbformat": 4,
  "nbformat_minor": 0,
  "metadata": {
    "colab": {
      "name": "hw5.ipynb",
      "provenance": [],
      "collapsed_sections": []
    },
    "kernelspec": {
      "name": "python3",
      "display_name": "Python 3"
    },
    "language_info": {
      "name": "python"
    }
  },
  "cells": [
    {
      "cell_type": "code",
      "source": [
        "import pandas as pd\n",
        "from sklearn.preprocessing import StandardScaler\n",
        "from sklearn.model_selection import train_test_split\n",
        "from sklearn.linear_model import LinearRegression\n",
        "from sklearn.metrics import mean_squared_error\n",
        "import numpy as np\n",
        "import matplotlib.pyplot as plt"
      ],
      "metadata": {
        "id": "ml3sStmwjkTc"
      },
      "execution_count": null,
      "outputs": []
    },
    {
      "cell_type": "code",
      "source": [
        "data = pd.read_csv(\"/content/drive/MyDrive/Colab Notebooks/Salary_Data.csv\")"
      ],
      "metadata": {
        "id": "XbJK9A78eue8"
      },
      "execution_count": null,
      "outputs": []
    },
    {
      "cell_type": "code",
      "source": [
        ""
      ],
      "metadata": {
        "id": "VEa7obLyc4K0"
      },
      "execution_count": null,
      "outputs": []
    },
    {
      "cell_type": "code",
      "source": [
        ""
      ],
      "metadata": {
        "id": "W8M-KhkKc4P3"
      },
      "execution_count": null,
      "outputs": []
    },
    {
      "cell_type": "code",
      "source": [
        "from sklearn.model_selection import train_test_split\n",
        "X = np.array(data[\"YearsExperience\"]).reshape(-1,1)\n",
        "Y = np.array(data[\"Salary\"]).reshape(-1,1)\n",
        "train_x, test_x, train_y, test_y  = train_test_split(X, Y, test_size=0.2, random_state=10)"
      ],
      "metadata": {
        "id": "ncDp0bg_cH31"
      },
      "execution_count": null,
      "outputs": []
    },
    {
      "cell_type": "code",
      "source": [
        "from sklearn.preprocessing import StandardScaler\n",
        "scaler_x = StandardScaler()\n",
        "scaler_y = StandardScaler()\n",
        "\n",
        "sc_train_x = scaler_x.fit_transform(train_x)\n",
        "sc_train_y = scaler_y.fit_transform(train_y)"
      ],
      "metadata": {
        "id": "oMIj_Rv6cH-b"
      },
      "execution_count": null,
      "outputs": []
    },
    {
      "cell_type": "code",
      "source": [
        "from sklearn.linear_model import LinearRegression\n",
        "regression = LinearRegression()"
      ],
      "metadata": {
        "id": "fcZwZJV9cIBD"
      },
      "execution_count": null,
      "outputs": []
    },
    {
      "cell_type": "code",
      "source": [
        "regression.fit(sc_train_x, sc_train_y)"
      ],
      "metadata": {
        "colab": {
          "base_uri": "https://localhost:8080/"
        },
        "id": "dZgHCWbTcIDj",
        "outputId": "f4c09d23-c4f7-48a9-e5ee-abf345d6e871"
      },
      "execution_count": null,
      "outputs": [
        {
          "output_type": "execute_result",
          "data": {
            "text/plain": [
              "LinearRegression()"
            ]
          },
          "metadata": {},
          "execution_count": 6
        }
      ]
    },
    {
      "cell_type": "code",
      "source": [
        "from sklearn.metrics import mean_squared_error\n",
        "sc_test_x = scaler_x.transform(test_x)\n",
        "sc_test_y = scaler_y.transform(test_y)\n",
        "y_hat = regression.predict(sc_test_x)\n",
        "print(f\"evaluation MSE: {mean_squared_error(sc_test_y, y_hat)}\")"
      ],
      "metadata": {
        "colab": {
          "base_uri": "https://localhost:8080/"
        },
        "id": "Qo-IWoKVcQIc",
        "outputId": "5f3b073c-5e9e-4800-f3a1-5c51fcce3434"
      },
      "execution_count": null,
      "outputs": [
        {
          "output_type": "stream",
          "name": "stdout",
          "text": [
            "evaluation MSE: 0.013446201443205819\n"
          ]
        }
      ]
    },
    {
      "cell_type": "code",
      "source": [
        "scaler_x"
      ],
      "metadata": {
        "colab": {
          "base_uri": "https://localhost:8080/"
        },
        "id": "ShKX6e60dfnU",
        "outputId": "844214f9-0efc-4101-ae04-1756715f3de5"
      },
      "execution_count": null,
      "outputs": [
        {
          "output_type": "execute_result",
          "data": {
            "text/plain": [
              "StandardScaler()"
            ]
          },
          "metadata": {},
          "execution_count": 32
        }
      ]
    },
    {
      "cell_type": "code",
      "source": [
        "Y_hat = regression.predict(scaler_x.transform(X))\n",
        "Y_inv_hat = scaler_y.inverse_transform(Y_hat)\n",
        "plt.scatter(X, Y, s =3)\n",
        "plt.plot(X, Y_inv_hat, color=\"red\")\n",
        "plt.show()"
      ],
      "metadata": {
        "colab": {
          "base_uri": "https://localhost:8080/",
          "height": 265
        },
        "id": "umvIlKYlcQK2",
        "outputId": "f2c6e915-c2a8-4e95-b465-15dae741756e"
      },
      "execution_count": null,
      "outputs": [
        {
          "output_type": "display_data",
          "data": {
            "text/plain": [
              "<Figure size 432x288 with 1 Axes>"
            ],
            "image/png": "[encoded data removed]"
          },
          "metadata": {
            "needs_background": "light"
          }
        }
      ]
    },
    {
      "cell_type": "code",
      "source": [
        ""
      ],
      "metadata": {
        "id": "-YejDXltcIGL"
      },
      "execution_count": null,
      "outputs": []
    },
    {
      "cell_type": "code",
      "source": [
        ""
      ],
      "metadata": {
        "id": "Z-M9O0GucIId"
      },
      "execution_count": null,
      "outputs": []
    },
    {
      "cell_type": "code",
      "source": [
        ""
      ],
      "metadata": {
        "id": "JEakAfwFcIK8"
      },
      "execution_count": null,
      "outputs": []
    },
    {
      "cell_type": "code",
      "source": [
        "scaler = StandardScaler()\n",
        "data = scaler.fit_transform(data)"
      ],
      "metadata": {
        "id": "xTomRemZZiTB"
      },
      "execution_count": null,
      "outputs": []
    },
    {
      "cell_type": "code",
      "source": [
        "year = data[:,[0]]\n",
        "salary = data[:,1]"
      ],
      "metadata": {
        "id": "szSxAK4_aKTP"
      },
      "execution_count": null,
      "outputs": []
    },
    {
      "cell_type": "code",
      "source": [
        "train_x, test_x, train_y, test_y  = train_test_split(year, salary, test_size=0.2, random_state=10)"
      ],
      "metadata": {
        "id": "Oy5GY22FbKd1"
      },
      "execution_count": null,
      "outputs": []
    },
    {
      "cell_type": "code",
      "source": [
        "regression = LinearRegression()\n",
        "regression.fit(train_x,train_y)"
      ],
      "metadata": {
        "colab": {
          "base_uri": "https://localhost:8080/"
        },
        "id": "ce_YZT8QayGg",
        "outputId": "ceadb1b4-eb9b-4228-8345-d85088f6dff1"
      },
      "execution_count": null,
      "outputs": [
        {
          "output_type": "execute_result",
          "data": {
            "text/plain": [
              "LinearRegression()"
            ]
          },
          "metadata": {},
          "execution_count": 13
        }
      ]
    },
    {
      "cell_type": "code",
      "source": [
        "pred_y = regression.predict(year)"
      ],
      "metadata": {
        "id": "QH3x2KC1eFpa"
      },
      "execution_count": null,
      "outputs": []
    },
    {
      "cell_type": "code",
      "source": [
        "plt.scatter(year,salary)\n",
        "plt.plot(year,pred_y)\n",
        "plt.show()"
      ],
      "metadata": {
        "colab": {
          "base_uri": "https://localhost:8080/",
          "height": 265
        },
        "id": "lo3-KAZmeUuY",
        "outputId": "2ad9731a-b754-47df-fce8-e36dc505b3f8"
      },
      "execution_count": null,
      "outputs": [
        {
          "output_type": "display_data",
          "data": {
            "text/plain": [
              "<Figure size 432x288 with 1 Axes>"
            ],
            "image/png": "[encoded data removed]"
          },
          "metadata": {
            "needs_background": "light"
          }
        }
      ]
    },
    {
      "cell_type": "code",
      "source": [
        "origin = []\n",
        "for i in range(len(year)) :\n",
        "  origin.append([year[i][0],round(salary[i],8)])"
      ],
      "metadata": {
        "id": "hwHB2T70mmU4"
      },
      "execution_count": null,
      "outputs": []
    },
    {
      "cell_type": "code",
      "source": [
        "pred = []\n",
        "for i in range(len(year)) :\n",
        "  pred.append([year[i][0],pred_y[i]])"
      ],
      "metadata": {
        "id": "kpXOvQwlnqKZ"
      },
      "execution_count": null,
      "outputs": []
    },
    {
      "cell_type": "code",
      "source": [
        "origin = scaler.inverse_transform(origin)\n",
        "pred = scaler.inverse_transform(pred)"
      ],
      "metadata": {
        "id": "0c2wNkf-mXQ8"
      },
      "execution_count": null,
      "outputs": []
    },
    {
      "cell_type": "code",
      "source": [
        "pred"
      ],
      "metadata": {
        "colab": {
          "base_uri": "https://localhost:8080/"
        },
        "id": "lQb3tJzw2JGI",
        "outputId": "bc746bc7-8226-4faa-cb00-19d3ea61d3ec"
      },
      "execution_count": null,
      "outputs": [
        {
          "output_type": "execute_result",
          "data": {
            "text/plain": [
              "array([[1.10000000e+00, 3.63816459e+04],\n",
              "       [1.30000000e+00, 3.82530185e+04],\n",
              "       [1.50000000e+00, 4.01243911e+04],\n",
              "       [2.00000000e+00, 4.48028226e+04],\n",
              "       [2.20000000e+00, 4.66741952e+04],\n",
              "       [2.90000000e+00, 5.32239993e+04],\n",
              "       [3.00000000e+00, 5.41596856e+04],\n",
              "       [3.20000000e+00, 5.60310582e+04],\n",
              "       [3.20000000e+00, 5.60310582e+04],\n",
              "       [3.70000000e+00, 6.07094897e+04],\n",
              "       [3.90000000e+00, 6.25808623e+04],\n",
              "       [4.00000000e+00, 6.35165486e+04],\n",
              "       [4.00000000e+00, 6.35165486e+04],\n",
              "       [4.10000000e+00, 6.44522349e+04],\n",
              "       [4.50000000e+00, 6.81949801e+04],\n",
              "       [4.90000000e+00, 7.19377253e+04],\n",
              "       [5.10000000e+00, 7.38090979e+04],\n",
              "       [5.30000000e+00, 7.56804705e+04],\n",
              "       [5.90000000e+00, 8.12945883e+04],\n",
              "       [6.00000000e+00, 8.22302746e+04],\n",
              "       [6.80000000e+00, 8.97157650e+04],\n",
              "       [7.10000000e+00, 9.25228239e+04],\n",
              "       [7.90000000e+00, 1.00008314e+05],\n",
              "       [8.20000000e+00, 1.02815373e+05],\n",
              "       [8.70000000e+00, 1.07493805e+05],\n",
              "       [9.00000000e+00, 1.10300864e+05],\n",
              "       [9.50000000e+00, 1.14979295e+05],\n",
              "       [9.60000000e+00, 1.15914981e+05],\n",
              "       [1.03000000e+01, 1.22464785e+05],\n",
              "       [1.05000000e+01, 1.24336158e+05]])"
            ]
          },
          "metadata": {},
          "execution_count": 19
        }
      ]
    },
    {
      "cell_type": "code",
      "source": [
        "plt.scatter(x=origin[:,0],y=origin[:,1])\n",
        "plt.plot(pred[:,0],pred[:,1])\n",
        "plt.show()"
      ],
      "metadata": {
        "colab": {
          "base_uri": "https://localhost:8080/",
          "height": 265
        },
        "id": "SqXlCuIf2WnK",
        "outputId": "9a55de1f-83c5-41e5-a5f0-4fa77ee5de83"
      },
      "execution_count": null,
      "outputs": [
        {
          "output_type": "display_data",
          "data": {
            "text/plain": [
              "<Figure size 432x288 with 1 Axes>"
            ],
            "image/png": "[encoded data removed]"
          },
          "metadata": {
            "needs_background": "light"
          }
        }
      ]
    },
    {
      "cell_type": "code",
      "source": [
        "len(pred)"
      ],
      "metadata": {
        "colab": {
          "base_uri": "https://localhost:8080/"
        },
        "id": "NK4kWpWfcWyk",
        "outputId": "4710a0b5-0cb7-416c-8b8e-6bc2cb918ab9"
      },
      "execution_count": null,
      "outputs": [
        {
          "output_type": "execute_result",
          "data": {
            "text/plain": [
              "30"
            ]
          },
          "metadata": {},
          "execution_count": 21
        }
      ]
    }
  ]
}