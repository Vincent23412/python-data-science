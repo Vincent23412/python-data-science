{
  "nbformat": 4,
  "nbformat_minor": 0,
  "metadata": {
    "colab": {
      "name": "Untitled1.ipynb",
      "provenance": [],
      "collapsed_sections": []
    },
    "kernelspec": {
      "name": "python3",
      "display_name": "Python 3"
    },
    "language_info": {
      "name": "python"
    }
  },
  "cells": [
    {
      "cell_type": "code",
      "source": [
        "#1\n",
        "n = int(input())\n",
        "ans = 0\n",
        "for i in range(n+1) :\n",
        "  ans += i\n",
        "print(ans)"
      ],
      "metadata": {
        "colab": {
          "base_uri": "https://localhost:8080/"
        },
        "id": "tqfcuorpOR31",
        "outputId": "f6270577-8724-4483-d1a6-02b102c65991"
      },
      "execution_count": null,
      "outputs": [
        {
          "output_type": "stream",
          "name": "stdout",
          "text": [
            "10\n",
            "55\n"
          ]
        }
      ]
    },
    {
      "cell_type": "code",
      "source": [
        "#2\n",
        "num = input().split()\n",
        "standard = int(input())\n",
        "ans = []\n",
        "for i in num :\n",
        "  if int(i) >= standard :\n",
        "    ans.append(i)\n",
        "print(ans)"
      ],
      "metadata": {
        "colab": {
          "base_uri": "https://localhost:8080/"
        },
        "id": "Nn3tUer9E6Uk",
        "outputId": "89038cc7-136b-4cb0-faf8-1dadad5f4ae5"
      },
      "execution_count": 1,
      "outputs": [
        {
          "output_type": "stream",
          "name": "stdout",
          "text": [
            "10 50 20 30 40\n",
            "20\n",
            "['50', '30', '40']\n"
          ]
        }
      ]
    },
    {
      "cell_type": "code",
      "source": [
        "#3\n",
        "num = input().split()\n",
        "ans = 0\n",
        "for i in num :\n",
        "  if int(i) % 2 == 0 :\n",
        "    ans += int(i)\n",
        "print(ans)"
      ],
      "metadata": {
        "colab": {
          "base_uri": "https://localhost:8080/"
        },
        "id": "U8gGzRl6FVUJ",
        "outputId": "06045f24-2f56-44cf-e602-b8276b00f2d2"
      },
      "execution_count": 2,
      "outputs": [
        {
          "output_type": "stream",
          "name": "stdout",
          "text": [
            "20 10 35\n",
            "30\n"
          ]
        }
      ]
    },
    {
      "cell_type": "code",
      "source": [
        "#4\n",
        "main = input()\n",
        "target = input()\n",
        "count = 0 \n",
        "Len = len(target)\n",
        "for i in range(len(main)-Len+1) :\n",
        "  if main[i:i+Len] == target :\n",
        "    count += 1\n",
        "print(count)"
      ],
      "metadata": {
        "colab": {
          "base_uri": "https://localhost:8080/"
        },
        "id": "yIywyJ_LFxog",
        "outputId": "d82ebdd9-e16c-4d29-9af1-83cb451df49f"
      },
      "execution_count": 13,
      "outputs": [
        {
          "output_type": "stream",
          "name": "stdout",
          "text": [
            "asdasdasd\n",
            "asd\n",
            "3\n"
          ]
        }
      ]
    }
  ]
}